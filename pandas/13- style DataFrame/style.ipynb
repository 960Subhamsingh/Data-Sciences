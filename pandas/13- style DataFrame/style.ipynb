{
 "cells": [
  {
   "cell_type": "code",
   "execution_count": 1,
   "metadata": {},
   "outputs": [],
   "source": [
    "import pandas as pd"
   ]
  },
  {
   "cell_type": "code",
   "execution_count": 2,
   "metadata": {},
   "outputs": [],
   "source": [
    "stock = pd.read_csv('stock.csv')"
   ]
  },
  {
   "cell_type": "code",
   "execution_count": 3,
   "metadata": {},
   "outputs": [],
   "source": [
    "format_date = {'Date' :'{%m/%d/%y}', 'Close':'${:.2f}', 'Volume':'{:,}'}"
   ]
  },
  {
   "cell_type": "code",
   "execution_count": 4,
   "metadata": {},
   "outputs": [
    {
     "data": {
      "text/html": [
       "<style type=\"text/css\">\n",
       "#T_a955d_row0_col2 {\n",
       "  background-color: #deebf7;\n",
       "  color: #000000;\n",
       "}\n",
       "#T_a955d_row1_col2 {\n",
       "  background-color: #5aa2cf;\n",
       "  color: #f1f1f1;\n",
       "}\n",
       "#T_a955d_row2_col2 {\n",
       "  background-color: #8fc2de;\n",
       "  color: #000000;\n",
       "}\n",
       "#T_a955d_row3_col2 {\n",
       "  background-color: #08306b;\n",
       "  color: #f1f1f1;\n",
       "}\n",
       "#T_a955d_row4_col2 {\n",
       "  background-color: #7ab6d9;\n",
       "  color: #000000;\n",
       "}\n",
       "#T_a955d_row5_col2 {\n",
       "  background-color: #a0cbe2;\n",
       "  color: #000000;\n",
       "}\n",
       "#T_a955d_row6_col2 {\n",
       "  background-color: #bed8ec;\n",
       "  color: #000000;\n",
       "}\n",
       "#T_a955d_row7_col2 {\n",
       "  background-color: #f7fbff;\n",
       "  color: #000000;\n",
       "}\n",
       "#T_a955d_row8_col2 {\n",
       "  background-color: #5fa6d1;\n",
       "  color: #f1f1f1;\n",
       "}\n",
       "</style>\n",
       "<table id=\"T_a955d\">\n",
       "  <thead>\n",
       "    <tr>\n",
       "      <th class=\"blank level0\" >&nbsp;</th>\n",
       "      <th id=\"T_a955d_level0_col0\" class=\"col_heading level0 col0\" >Date</th>\n",
       "      <th id=\"T_a955d_level0_col1\" class=\"col_heading level0 col1\" >Close</th>\n",
       "      <th id=\"T_a955d_level0_col2\" class=\"col_heading level0 col2\" >Volume</th>\n",
       "      <th id=\"T_a955d_level0_col3\" class=\"col_heading level0 col3\" >Symbol</th>\n",
       "    </tr>\n",
       "  </thead>\n",
       "  <tbody>\n",
       "    <tr>\n",
       "      <th id=\"T_a955d_level0_row0\" class=\"row_heading level0 row0\" >0</th>\n",
       "      <td id=\"T_a955d_row0_col0\" class=\"data row0 col0\" >03-10-16</td>\n",
       "      <td id=\"T_a955d_row0_col1\" class=\"data row0 col1\" >31.500000</td>\n",
       "      <td id=\"T_a955d_row0_col2\" class=\"data row0 col2\" >14070500</td>\n",
       "      <td id=\"T_a955d_row0_col3\" class=\"data row0 col3\" >CSCO</td>\n",
       "    </tr>\n",
       "    <tr>\n",
       "      <th id=\"T_a955d_level0_row1\" class=\"row_heading level0 row1\" >1</th>\n",
       "      <td id=\"T_a955d_row1_col0\" class=\"data row1 col0\" >03-10-16</td>\n",
       "      <td id=\"T_a955d_row1_col1\" class=\"data row1 col1\" >112.520000</td>\n",
       "      <td id=\"T_a955d_row1_col2\" class=\"data row1 col2\" >21701800</td>\n",
       "      <td id=\"T_a955d_row1_col3\" class=\"data row1 col3\" >AAPL</td>\n",
       "    </tr>\n",
       "    <tr>\n",
       "      <th id=\"T_a955d_level0_row2\" class=\"row_heading level0 row2\" >2</th>\n",
       "      <td id=\"T_a955d_row2_col0\" class=\"data row2 col0\" >03-10-16</td>\n",
       "      <td id=\"T_a955d_row2_col1\" class=\"data row2 col1\" >57.420000</td>\n",
       "      <td id=\"T_a955d_row2_col2\" class=\"data row2 col2\" >19189500</td>\n",
       "      <td id=\"T_a955d_row2_col3\" class=\"data row2 col3\" >MSFT</td>\n",
       "    </tr>\n",
       "    <tr>\n",
       "      <th id=\"T_a955d_level0_row3\" class=\"row_heading level0 row3\" >3</th>\n",
       "      <td id=\"T_a955d_row3_col0\" class=\"data row3 col0\" >04-10-16</td>\n",
       "      <td id=\"T_a955d_row3_col1\" class=\"data row3 col1\" >113.000000</td>\n",
       "      <td id=\"T_a955d_row3_col2\" class=\"data row3 col2\" >29736800</td>\n",
       "      <td id=\"T_a955d_row3_col3\" class=\"data row3 col3\" >AAPL</td>\n",
       "    </tr>\n",
       "    <tr>\n",
       "      <th id=\"T_a955d_level0_row4\" class=\"row_heading level0 row4\" >4</th>\n",
       "      <td id=\"T_a955d_row4_col0\" class=\"data row4 col0\" >04-10-16</td>\n",
       "      <td id=\"T_a955d_row4_col1\" class=\"data row4 col1\" >57.240000</td>\n",
       "      <td id=\"T_a955d_row4_col2\" class=\"data row4 col2\" >20085900</td>\n",
       "      <td id=\"T_a955d_row4_col3\" class=\"data row4 col3\" >MSFT</td>\n",
       "    </tr>\n",
       "    <tr>\n",
       "      <th id=\"T_a955d_level0_row5\" class=\"row_heading level0 row5\" >5</th>\n",
       "      <td id=\"T_a955d_row5_col0\" class=\"data row5 col0\" >04-10-16</td>\n",
       "      <td id=\"T_a955d_row5_col1\" class=\"data row5 col1\" >31.350000</td>\n",
       "      <td id=\"T_a955d_row5_col2\" class=\"data row5 col2\" >18460400</td>\n",
       "      <td id=\"T_a955d_row5_col3\" class=\"data row5 col3\" >CSCO</td>\n",
       "    </tr>\n",
       "    <tr>\n",
       "      <th id=\"T_a955d_level0_row6\" class=\"row_heading level0 row6\" >6</th>\n",
       "      <td id=\"T_a955d_row6_col0\" class=\"data row6 col0\" >05-10-16</td>\n",
       "      <td id=\"T_a955d_row6_col1\" class=\"data row6 col1\" >57.640000</td>\n",
       "      <td id=\"T_a955d_row6_col2\" class=\"data row6 col2\" >16726400</td>\n",
       "      <td id=\"T_a955d_row6_col3\" class=\"data row6 col3\" >MSFT</td>\n",
       "    </tr>\n",
       "    <tr>\n",
       "      <th id=\"T_a955d_level0_row7\" class=\"row_heading level0 row7\" >7</th>\n",
       "      <td id=\"T_a955d_row7_col0\" class=\"data row7 col0\" >05-10-16</td>\n",
       "      <td id=\"T_a955d_row7_col1\" class=\"data row7 col1\" >31.590000</td>\n",
       "      <td id=\"T_a955d_row7_col2\" class=\"data row7 col2\" >11808600</td>\n",
       "      <td id=\"T_a955d_row7_col3\" class=\"data row7 col3\" >CSCO</td>\n",
       "    </tr>\n",
       "    <tr>\n",
       "      <th id=\"T_a955d_level0_row8\" class=\"row_heading level0 row8\" >8</th>\n",
       "      <td id=\"T_a955d_row8_col0\" class=\"data row8 col0\" >05-10-16</td>\n",
       "      <td id=\"T_a955d_row8_col1\" class=\"data row8 col1\" >113.050000</td>\n",
       "      <td id=\"T_a955d_row8_col2\" class=\"data row8 col2\" >21453100</td>\n",
       "      <td id=\"T_a955d_row8_col3\" class=\"data row8 col3\" >AAPL</td>\n",
       "    </tr>\n",
       "  </tbody>\n",
       "</table>\n"
      ],
      "text/plain": [
       "<pandas.io.formats.style.Styler at 0x1ff1e436800>"
      ]
     },
     "execution_count": 4,
     "metadata": {},
     "output_type": "execute_result"
    }
   ],
   "source": [
    "stock.style.background_gradient(subset='Volume', cmap='Blues')"
   ]
  },
  {
   "cell_type": "code",
   "execution_count": 2,
   "metadata": {},
   "outputs": [],
   "source": [
    "# stock.style.format(format_date)"
   ]
  },
  {
   "cell_type": "code",
   "execution_count": null,
   "metadata": {},
   "outputs": [],
   "source": []
  }
 ],
 "metadata": {
  "kernelspec": {
   "display_name": "Python 3",
   "language": "python",
   "name": "python3"
  },
  "language_info": {
   "codemirror_mode": {
    "name": "ipython",
    "version": 3
   },
   "file_extension": ".py",
   "mimetype": "text/x-python",
   "name": "python",
   "nbconvert_exporter": "python",
   "pygments_lexer": "ipython3",
   "version": "3.10.11"
  }
 },
 "nbformat": 4,
 "nbformat_minor": 2
}
