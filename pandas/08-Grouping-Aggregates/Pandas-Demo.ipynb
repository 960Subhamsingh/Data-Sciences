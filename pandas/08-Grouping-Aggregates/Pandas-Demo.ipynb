{
 "cells": [
  {
   "cell_type": "code",
   "execution_count": 1,
   "metadata": {},
   "outputs": [],
   "source": [
    "import pandas as pd"
   ]
  },
  {
   "cell_type": "code",
   "execution_count": 2,
   "metadata": {},
   "outputs": [],
   "source": [
    "df = pd.read_csv('D:/Project/Data Sciences/pandas/uforeports.csv' )\n",
    "df1 = pd.read_csv('D:/Project/Data Sciences/pandas/Customers_2.csv')"
   ]
  },
  {
   "cell_type": "code",
   "execution_count": 3,
   "metadata": {
    "scrolled": true
   },
   "outputs": [
    {
     "data": {
      "text/html": [
       "<div>\n",
       "<style scoped>\n",
       "    .dataframe tbody tr th:only-of-type {\n",
       "        vertical-align: middle;\n",
       "    }\n",
       "\n",
       "    .dataframe tbody tr th {\n",
       "        vertical-align: top;\n",
       "    }\n",
       "\n",
       "    .dataframe thead th {\n",
       "        text-align: right;\n",
       "    }\n",
       "</style>\n",
       "<table border=\"1\" class=\"dataframe\">\n",
       "  <thead>\n",
       "    <tr style=\"text-align: right;\">\n",
       "      <th></th>\n",
       "      <th>CustomerID</th>\n",
       "      <th>Gender</th>\n",
       "      <th>Age</th>\n",
       "      <th>Annual Income(k$)</th>\n",
       "      <th>Spending Score</th>\n",
       "    </tr>\n",
       "  </thead>\n",
       "  <tbody>\n",
       "    <tr>\n",
       "      <th>0</th>\n",
       "      <td>6</td>\n",
       "      <td>Female</td>\n",
       "      <td>26</td>\n",
       "      <td>600</td>\n",
       "      <td>65</td>\n",
       "    </tr>\n",
       "    <tr>\n",
       "      <th>1</th>\n",
       "      <td>7</td>\n",
       "      <td>Male</td>\n",
       "      <td>32</td>\n",
       "      <td>700</td>\n",
       "      <td>32</td>\n",
       "    </tr>\n",
       "    <tr>\n",
       "      <th>2</th>\n",
       "      <td>8</td>\n",
       "      <td>Male</td>\n",
       "      <td>41</td>\n",
       "      <td>105</td>\n",
       "      <td>46</td>\n",
       "    </tr>\n",
       "    <tr>\n",
       "      <th>3</th>\n",
       "      <td>9</td>\n",
       "      <td>Female</td>\n",
       "      <td>20</td>\n",
       "      <td>210</td>\n",
       "      <td>12</td>\n",
       "    </tr>\n",
       "    <tr>\n",
       "      <th>4</th>\n",
       "      <td>10</td>\n",
       "      <td>Male</td>\n",
       "      <td>19</td>\n",
       "      <td>202</td>\n",
       "      <td>56</td>\n",
       "    </tr>\n",
       "  </tbody>\n",
       "</table>\n",
       "</div>"
      ],
      "text/plain": [
       "   CustomerID  Gender  Age  Annual Income(k$)  Spending Score\n",
       "0           6  Female   26                600              65\n",
       "1           7    Male   32                700              32\n",
       "2           8    Male   41                105              46\n",
       "3           9  Female   20                210              12\n",
       "4          10    Male   19                202              56"
      ]
     },
     "execution_count": 3,
     "metadata": {},
     "output_type": "execute_result"
    }
   ],
   "source": [
    "df1"
   ]
  },
  {
   "cell_type": "code",
   "execution_count": 5,
   "metadata": {},
   "outputs": [
    {
     "data": {
      "text/plain": [
       "46.0"
      ]
     },
     "execution_count": 5,
     "metadata": {},
     "output_type": "execute_result"
    }
   ],
   "source": [
    "df1['Spending Score'].median()"
   ]
  },
  {
   "cell_type": "code",
   "execution_count": 6,
   "metadata": {},
   "outputs": [
    {
     "data": {
      "text/html": [
       "<div>\n",
       "<style scoped>\n",
       "    .dataframe tbody tr th:only-of-type {\n",
       "        vertical-align: middle;\n",
       "    }\n",
       "\n",
       "    .dataframe tbody tr th {\n",
       "        vertical-align: top;\n",
       "    }\n",
       "\n",
       "    .dataframe thead th {\n",
       "        text-align: right;\n",
       "    }\n",
       "</style>\n",
       "<table border=\"1\" class=\"dataframe\">\n",
       "  <thead>\n",
       "    <tr style=\"text-align: right;\">\n",
       "      <th></th>\n",
       "      <th>City</th>\n",
       "      <th>Colors Reported</th>\n",
       "      <th>Shape Reported</th>\n",
       "      <th>State</th>\n",
       "      <th>Time</th>\n",
       "    </tr>\n",
       "  </thead>\n",
       "  <tbody>\n",
       "    <tr>\n",
       "      <th>count</th>\n",
       "      <td>18215</td>\n",
       "      <td>2882</td>\n",
       "      <td>15597</td>\n",
       "      <td>18241</td>\n",
       "      <td>18241</td>\n",
       "    </tr>\n",
       "    <tr>\n",
       "      <th>unique</th>\n",
       "      <td>6475</td>\n",
       "      <td>27</td>\n",
       "      <td>27</td>\n",
       "      <td>52</td>\n",
       "      <td>16145</td>\n",
       "    </tr>\n",
       "    <tr>\n",
       "      <th>top</th>\n",
       "      <td>Seattle</td>\n",
       "      <td>RED</td>\n",
       "      <td>LIGHT</td>\n",
       "      <td>CA</td>\n",
       "      <td>11/16/1999 19:00</td>\n",
       "    </tr>\n",
       "    <tr>\n",
       "      <th>freq</th>\n",
       "      <td>187</td>\n",
       "      <td>780</td>\n",
       "      <td>2803</td>\n",
       "      <td>2529</td>\n",
       "      <td>27</td>\n",
       "    </tr>\n",
       "  </tbody>\n",
       "</table>\n",
       "</div>"
      ],
      "text/plain": [
       "           City Colors Reported Shape Reported  State              Time\n",
       "count     18215            2882          15597  18241             18241\n",
       "unique     6475              27             27     52             16145\n",
       "top     Seattle             RED          LIGHT     CA  11/16/1999 19:00\n",
       "freq        187             780           2803   2529                27"
      ]
     },
     "execution_count": 6,
     "metadata": {},
     "output_type": "execute_result"
    }
   ],
   "source": [
    "df.describe()"
   ]
  },
  {
   "cell_type": "code",
   "execution_count": 7,
   "metadata": {},
   "outputs": [
    {
     "data": {
      "text/plain": [
       "18215"
      ]
     },
     "execution_count": 7,
     "metadata": {},
     "output_type": "execute_result"
    }
   ],
   "source": [
    "df['City'].count()"
   ]
  },
  {
   "cell_type": "code",
   "execution_count": 8,
   "metadata": {},
   "outputs": [
    {
     "data": {
      "text/plain": [
       "City\n",
       "Seattle          187\n",
       "New York City    161\n",
       "Phoenix          137\n",
       "Houston          108\n",
       "Las Vegas        105\n",
       "                ... \n",
       "Lake Sonoma        1\n",
       "Von Ormy           1\n",
       "Grosse Pointe      1\n",
       "Grosse Point       1\n",
       "Ybor               1\n",
       "Name: count, Length: 6475, dtype: int64"
      ]
     },
     "execution_count": 8,
     "metadata": {},
     "output_type": "execute_result"
    }
   ],
   "source": [
    "df['City'].value_counts()"
   ]
  },
  {
   "cell_type": "code",
   "execution_count": 9,
   "metadata": {},
   "outputs": [
    {
     "data": {
      "text/plain": [
       "City\n",
       "Seattle          187\n",
       "New York City    161\n",
       "Phoenix          137\n",
       "Houston          108\n",
       "Las Vegas        105\n",
       "                ... \n",
       "Lake Sonoma        1\n",
       "Von Ormy           1\n",
       "Grosse Pointe      1\n",
       "Grosse Point       1\n",
       "Ybor               1\n",
       "Name: count, Length: 6475, dtype: int64"
      ]
     },
     "execution_count": 9,
     "metadata": {},
     "output_type": "execute_result"
    }
   ],
   "source": [
    "df['City'].value_counts()"
   ]
  },
  {
   "cell_type": "code",
   "execution_count": 10,
   "metadata": {},
   "outputs": [
    {
     "data": {
      "text/plain": [
       "City\n",
       "Seattle          0.010266\n",
       "New York City    0.008839\n",
       "Phoenix          0.007521\n",
       "Houston          0.005929\n",
       "Las Vegas        0.005764\n",
       "                   ...   \n",
       "Lake Sonoma      0.000055\n",
       "Von Ormy         0.000055\n",
       "Grosse Pointe    0.000055\n",
       "Grosse Point     0.000055\n",
       "Ybor             0.000055\n",
       "Name: proportion, Length: 6475, dtype: float64"
      ]
     },
     "execution_count": 10,
     "metadata": {},
     "output_type": "execute_result"
    }
   ],
   "source": [
    "df['City'].value_counts(normalize=True)"
   ]
  },
  {
   "cell_type": "code",
   "execution_count": 11,
   "metadata": {},
   "outputs": [
    {
     "data": {
      "text/plain": [
       "City\n",
       "Seattle          187\n",
       "New York City    161\n",
       "Phoenix          137\n",
       "Houston          108\n",
       "Las Vegas        105\n",
       "                ... \n",
       "Lake Sonoma        1\n",
       "Von Ormy           1\n",
       "Grosse Pointe      1\n",
       "Grosse Point       1\n",
       "Ybor               1\n",
       "Name: count, Length: 6475, dtype: int64"
      ]
     },
     "execution_count": 11,
     "metadata": {},
     "output_type": "execute_result"
    }
   ],
   "source": [
    "df['City'].value_counts()"
   ]
  },
  {
   "cell_type": "code",
   "execution_count": 12,
   "metadata": {},
   "outputs": [],
   "source": [
    "country_grp = df.groupby(['City'])"
   ]
  },
  {
   "cell_type": "code",
   "execution_count": 13,
   "metadata": {},
   "outputs": [
    {
     "data": {
      "text/plain": [
       "City         Colors Reported  Shape Reported  State  Time            \n",
       "Eagle River  RED              LIGHT           AK     4/24/2000 23:15     1\n",
       "                                              WI     12/31/2000 23:45    1\n",
       "Name: count, dtype: int64"
      ]
     },
     "execution_count": 13,
     "metadata": {},
     "output_type": "execute_result"
    }
   ],
   "source": [
    "filt = df['City'] == 'Eagle River'\n",
    "df.loc[filt].value_counts()"
   ]
  },
  {
   "cell_type": "code",
   "execution_count": 14,
   "metadata": {},
   "outputs": [
    {
     "data": {
      "text/plain": [
       "1.0"
      ]
     },
     "execution_count": 14,
     "metadata": {},
     "output_type": "execute_result"
    }
   ],
   "source": [
    "country_grp['City'].value_counts(normalize=True).loc['Eagle River']"
   ]
  },
  {
   "cell_type": "code",
   "execution_count": 19,
   "metadata": {},
   "outputs": [],
   "source": [
    "# column Name\n",
    "column_name = ['sales_number','sales_order_line','Order_date','customer_Name','Email_Addree','Item','Quantity','unit_Price','Taxt_Amount']"
   ]
  },
  {
   "cell_type": "code",
   "execution_count": 27,
   "metadata": {},
   "outputs": [],
   "source": [
    "df_2021 = pd.read_csv('D:/Project/Data Sciences/pandas/2021.csv', names=column_name )"
   ]
  },
  {
   "cell_type": "code",
   "execution_count": 21,
   "metadata": {},
   "outputs": [
    {
     "data": {
      "text/html": [
       "<div>\n",
       "<style scoped>\n",
       "    .dataframe tbody tr th:only-of-type {\n",
       "        vertical-align: middle;\n",
       "    }\n",
       "\n",
       "    .dataframe tbody tr th {\n",
       "        vertical-align: top;\n",
       "    }\n",
       "\n",
       "    .dataframe thead th {\n",
       "        text-align: right;\n",
       "    }\n",
       "</style>\n",
       "<table border=\"1\" class=\"dataframe\">\n",
       "  <thead>\n",
       "    <tr style=\"text-align: right;\">\n",
       "      <th></th>\n",
       "      <th>sales_number</th>\n",
       "      <th>sales_order_line</th>\n",
       "      <th>Order_date</th>\n",
       "      <th>customer_Name</th>\n",
       "      <th>Email_Addree</th>\n",
       "      <th>Item</th>\n",
       "      <th>Quantity</th>\n",
       "      <th>unit_Price</th>\n",
       "      <th>Taxt_Amount</th>\n",
       "    </tr>\n",
       "  </thead>\n",
       "  <tbody>\n",
       "    <tr>\n",
       "      <th>0</th>\n",
       "      <td>SO49171</td>\n",
       "      <td>1</td>\n",
       "      <td>2021-01-01</td>\n",
       "      <td>Mariah Foster</td>\n",
       "      <td>mariah21@adventure-works.com</td>\n",
       "      <td>Road-250 Black, 48</td>\n",
       "      <td>1</td>\n",
       "      <td>2181.5625</td>\n",
       "      <td>174.5250</td>\n",
       "    </tr>\n",
       "    <tr>\n",
       "      <th>1</th>\n",
       "      <td>SO49172</td>\n",
       "      <td>1</td>\n",
       "      <td>2021-01-01</td>\n",
       "      <td>Brian Howard</td>\n",
       "      <td>brian23@adventure-works.com</td>\n",
       "      <td>Road-250 Red, 44</td>\n",
       "      <td>1</td>\n",
       "      <td>2443.3500</td>\n",
       "      <td>195.4680</td>\n",
       "    </tr>\n",
       "    <tr>\n",
       "      <th>2</th>\n",
       "      <td>SO49173</td>\n",
       "      <td>1</td>\n",
       "      <td>2021-01-01</td>\n",
       "      <td>Linda Alvarez</td>\n",
       "      <td>linda19@adventure-works.com</td>\n",
       "      <td>Mountain-200 Silver, 38</td>\n",
       "      <td>1</td>\n",
       "      <td>2071.4196</td>\n",
       "      <td>165.7136</td>\n",
       "    </tr>\n",
       "    <tr>\n",
       "      <th>3</th>\n",
       "      <td>SO49174</td>\n",
       "      <td>1</td>\n",
       "      <td>2021-01-01</td>\n",
       "      <td>Gina Hernandez</td>\n",
       "      <td>gina4@adventure-works.com</td>\n",
       "      <td>Mountain-200 Silver, 42</td>\n",
       "      <td>1</td>\n",
       "      <td>2071.4196</td>\n",
       "      <td>165.7136</td>\n",
       "    </tr>\n",
       "    <tr>\n",
       "      <th>4</th>\n",
       "      <td>SO49178</td>\n",
       "      <td>1</td>\n",
       "      <td>2021-01-01</td>\n",
       "      <td>Beth Ruiz</td>\n",
       "      <td>beth4@adventure-works.com</td>\n",
       "      <td>Road-550-W Yellow, 44</td>\n",
       "      <td>1</td>\n",
       "      <td>1000.4375</td>\n",
       "      <td>80.0350</td>\n",
       "    </tr>\n",
       "  </tbody>\n",
       "</table>\n",
       "</div>"
      ],
      "text/plain": [
       "  sales_number  sales_order_line  Order_date   customer_Name  \\\n",
       "0      SO49171                 1  2021-01-01   Mariah Foster   \n",
       "1      SO49172                 1  2021-01-01    Brian Howard   \n",
       "2      SO49173                 1  2021-01-01   Linda Alvarez   \n",
       "3      SO49174                 1  2021-01-01  Gina Hernandez   \n",
       "4      SO49178                 1  2021-01-01       Beth Ruiz   \n",
       "\n",
       "                   Email_Addree                     Item  Quantity  \\\n",
       "0  mariah21@adventure-works.com       Road-250 Black, 48         1   \n",
       "1   brian23@adventure-works.com         Road-250 Red, 44         1   \n",
       "2   linda19@adventure-works.com  Mountain-200 Silver, 38         1   \n",
       "3     gina4@adventure-works.com  Mountain-200 Silver, 42         1   \n",
       "4     beth4@adventure-works.com    Road-550-W Yellow, 44         1   \n",
       "\n",
       "   unit_Price  Taxt_Amount  \n",
       "0   2181.5625     174.5250  \n",
       "1   2443.3500     195.4680  \n",
       "2   2071.4196     165.7136  \n",
       "3   2071.4196     165.7136  \n",
       "4   1000.4375      80.0350  "
      ]
     },
     "execution_count": 21,
     "metadata": {},
     "output_type": "execute_result"
    }
   ],
   "source": [
    "df_2021.head()"
   ]
  },
  {
   "cell_type": "code",
   "execution_count": 29,
   "metadata": {},
   "outputs": [
    {
     "data": {
      "text/html": [
       "<div>\n",
       "<style scoped>\n",
       "    .dataframe tbody tr th:only-of-type {\n",
       "        vertical-align: middle;\n",
       "    }\n",
       "\n",
       "    .dataframe tbody tr th {\n",
       "        vertical-align: top;\n",
       "    }\n",
       "\n",
       "    .dataframe thead th {\n",
       "        text-align: right;\n",
       "    }\n",
       "</style>\n",
       "<table border=\"1\" class=\"dataframe\">\n",
       "  <thead>\n",
       "    <tr style=\"text-align: right;\">\n",
       "      <th></th>\n",
       "      <th>sales_number</th>\n",
       "      <th>sales_order_line</th>\n",
       "      <th>Order_date</th>\n",
       "      <th>customer_Name</th>\n",
       "      <th>Email_Addree</th>\n",
       "      <th>Item</th>\n",
       "      <th>Quantity</th>\n",
       "      <th>unit_Price</th>\n",
       "      <th>Taxt_Amount</th>\n",
       "    </tr>\n",
       "  </thead>\n",
       "  <tbody>\n",
       "    <tr>\n",
       "      <th>0</th>\n",
       "      <td>SO49171</td>\n",
       "      <td>1</td>\n",
       "      <td>2021-01-01</td>\n",
       "      <td>Mariah Foster</td>\n",
       "      <td>mariah21@adventure-works.com</td>\n",
       "      <td>Road-250 Black, 48</td>\n",
       "      <td>1</td>\n",
       "      <td>2181.5625</td>\n",
       "      <td>174.5250</td>\n",
       "    </tr>\n",
       "    <tr>\n",
       "      <th>1</th>\n",
       "      <td>SO49172</td>\n",
       "      <td>1</td>\n",
       "      <td>2021-01-01</td>\n",
       "      <td>Brian Howard</td>\n",
       "      <td>brian23@adventure-works.com</td>\n",
       "      <td>Road-250 Red, 44</td>\n",
       "      <td>1</td>\n",
       "      <td>2443.3500</td>\n",
       "      <td>195.4680</td>\n",
       "    </tr>\n",
       "    <tr>\n",
       "      <th>2</th>\n",
       "      <td>SO49173</td>\n",
       "      <td>1</td>\n",
       "      <td>2021-01-01</td>\n",
       "      <td>Linda Alvarez</td>\n",
       "      <td>linda19@adventure-works.com</td>\n",
       "      <td>Mountain-200 Silver, 38</td>\n",
       "      <td>1</td>\n",
       "      <td>2071.4196</td>\n",
       "      <td>165.7136</td>\n",
       "    </tr>\n",
       "    <tr>\n",
       "      <th>3</th>\n",
       "      <td>SO49174</td>\n",
       "      <td>1</td>\n",
       "      <td>2021-01-01</td>\n",
       "      <td>Gina Hernandez</td>\n",
       "      <td>gina4@adventure-works.com</td>\n",
       "      <td>Mountain-200 Silver, 42</td>\n",
       "      <td>1</td>\n",
       "      <td>2071.4196</td>\n",
       "      <td>165.7136</td>\n",
       "    </tr>\n",
       "    <tr>\n",
       "      <th>4</th>\n",
       "      <td>SO49178</td>\n",
       "      <td>1</td>\n",
       "      <td>2021-01-01</td>\n",
       "      <td>Beth Ruiz</td>\n",
       "      <td>beth4@adventure-works.com</td>\n",
       "      <td>Road-550-W Yellow, 44</td>\n",
       "      <td>1</td>\n",
       "      <td>1000.4375</td>\n",
       "      <td>80.0350</td>\n",
       "    </tr>\n",
       "    <tr>\n",
       "      <th>...</th>\n",
       "      <td>...</td>\n",
       "      <td>...</td>\n",
       "      <td>...</td>\n",
       "      <td>...</td>\n",
       "      <td>...</td>\n",
       "      <td>...</td>\n",
       "      <td>...</td>\n",
       "      <td>...</td>\n",
       "      <td>...</td>\n",
       "    </tr>\n",
       "    <tr>\n",
       "      <th>28779</th>\n",
       "      <td>SO63093</td>\n",
       "      <td>2</td>\n",
       "      <td>2021-12-31</td>\n",
       "      <td>Rebekah Martin</td>\n",
       "      <td>rebekah20@adventure-works.com</td>\n",
       "      <td>Patch Kit/8 Patches</td>\n",
       "      <td>1</td>\n",
       "      <td>2.2900</td>\n",
       "      <td>0.1832</td>\n",
       "    </tr>\n",
       "    <tr>\n",
       "      <th>28780</th>\n",
       "      <td>SO63113</td>\n",
       "      <td>1</td>\n",
       "      <td>2021-12-31</td>\n",
       "      <td>Carolyn Alonso</td>\n",
       "      <td>carolyn29@adventure-works.com</td>\n",
       "      <td>Road-550-W Yellow, 48</td>\n",
       "      <td>1</td>\n",
       "      <td>1120.4900</td>\n",
       "      <td>89.6392</td>\n",
       "    </tr>\n",
       "    <tr>\n",
       "      <th>28781</th>\n",
       "      <td>SO63113</td>\n",
       "      <td>2</td>\n",
       "      <td>2021-12-31</td>\n",
       "      <td>Carolyn Alonso</td>\n",
       "      <td>carolyn29@adventure-works.com</td>\n",
       "      <td>Short-Sleeve Classic Jersey, S</td>\n",
       "      <td>1</td>\n",
       "      <td>53.9900</td>\n",
       "      <td>4.3192</td>\n",
       "    </tr>\n",
       "    <tr>\n",
       "      <th>28782</th>\n",
       "      <td>SO63066</td>\n",
       "      <td>1</td>\n",
       "      <td>2021-12-31</td>\n",
       "      <td>Teresa Navarro</td>\n",
       "      <td>teresa10@adventure-works.com</td>\n",
       "      <td>Mountain Tire Tube</td>\n",
       "      <td>1</td>\n",
       "      <td>4.9900</td>\n",
       "      <td>0.3992</td>\n",
       "    </tr>\n",
       "    <tr>\n",
       "      <th>28783</th>\n",
       "      <td>SO63066</td>\n",
       "      <td>2</td>\n",
       "      <td>2021-12-31</td>\n",
       "      <td>Teresa Navarro</td>\n",
       "      <td>teresa10@adventure-works.com</td>\n",
       "      <td>Patch Kit/8 Patches</td>\n",
       "      <td>1</td>\n",
       "      <td>2.2900</td>\n",
       "      <td>0.1832</td>\n",
       "    </tr>\n",
       "  </tbody>\n",
       "</table>\n",
       "<p>28784 rows × 9 columns</p>\n",
       "</div>"
      ],
      "text/plain": [
       "      sales_number  sales_order_line  Order_date   customer_Name  \\\n",
       "0          SO49171                 1  2021-01-01   Mariah Foster   \n",
       "1          SO49172                 1  2021-01-01    Brian Howard   \n",
       "2          SO49173                 1  2021-01-01   Linda Alvarez   \n",
       "3          SO49174                 1  2021-01-01  Gina Hernandez   \n",
       "4          SO49178                 1  2021-01-01       Beth Ruiz   \n",
       "...            ...               ...         ...             ...   \n",
       "28779      SO63093                 2  2021-12-31  Rebekah Martin   \n",
       "28780      SO63113                 1  2021-12-31  Carolyn Alonso   \n",
       "28781      SO63113                 2  2021-12-31  Carolyn Alonso   \n",
       "28782      SO63066                 1  2021-12-31  Teresa Navarro   \n",
       "28783      SO63066                 2  2021-12-31  Teresa Navarro   \n",
       "\n",
       "                        Email_Addree                            Item  \\\n",
       "0       mariah21@adventure-works.com              Road-250 Black, 48   \n",
       "1        brian23@adventure-works.com                Road-250 Red, 44   \n",
       "2        linda19@adventure-works.com         Mountain-200 Silver, 38   \n",
       "3          gina4@adventure-works.com         Mountain-200 Silver, 42   \n",
       "4          beth4@adventure-works.com           Road-550-W Yellow, 44   \n",
       "...                              ...                             ...   \n",
       "28779  rebekah20@adventure-works.com             Patch Kit/8 Patches   \n",
       "28780  carolyn29@adventure-works.com           Road-550-W Yellow, 48   \n",
       "28781  carolyn29@adventure-works.com  Short-Sleeve Classic Jersey, S   \n",
       "28782   teresa10@adventure-works.com              Mountain Tire Tube   \n",
       "28783   teresa10@adventure-works.com             Patch Kit/8 Patches   \n",
       "\n",
       "       Quantity  unit_Price  Taxt_Amount  \n",
       "0             1   2181.5625     174.5250  \n",
       "1             1   2443.3500     195.4680  \n",
       "2             1   2071.4196     165.7136  \n",
       "3             1   2071.4196     165.7136  \n",
       "4             1   1000.4375      80.0350  \n",
       "...         ...         ...          ...  \n",
       "28779         1      2.2900       0.1832  \n",
       "28780         1   1120.4900      89.6392  \n",
       "28781         1     53.9900       4.3192  \n",
       "28782         1      4.9900       0.3992  \n",
       "28783         1      2.2900       0.1832  \n",
       "\n",
       "[28784 rows x 9 columns]"
      ]
     },
     "execution_count": 29,
     "metadata": {},
     "output_type": "execute_result"
    }
   ],
   "source": [
    "df_2021"
   ]
  },
  {
   "cell_type": "code",
   "execution_count": 33,
   "metadata": {},
   "outputs": [
    {
     "data": {
      "text/plain": [
       "<bound method Series.median of 0        SO49171\n",
       "1        SO49172\n",
       "2        SO49173\n",
       "3        SO49174\n",
       "4        SO49178\n",
       "          ...   \n",
       "28779    SO63093\n",
       "28780    SO63113\n",
       "28781    SO63113\n",
       "28782    SO63066\n",
       "28783    SO63066\n",
       "Name: sales_number, Length: 28784, dtype: object>"
      ]
     },
     "execution_count": 33,
     "metadata": {},
     "output_type": "execute_result"
    }
   ],
   "source": [
    "df_2021['sales_number'].median"
   ]
  }
 ],
 "metadata": {
  "kernelspec": {
   "display_name": "Python 3",
   "language": "python",
   "name": "python3"
  },
  "language_info": {
   "codemirror_mode": {
    "name": "ipython",
    "version": 3
   },
   "file_extension": ".py",
   "mimetype": "text/x-python",
   "name": "python",
   "nbconvert_exporter": "python",
   "pygments_lexer": "ipython3",
   "version": "3.10.11"
  }
 },
 "nbformat": 4,
 "nbformat_minor": 2
}
